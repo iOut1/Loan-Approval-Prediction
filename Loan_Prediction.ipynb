{
  "nbformat": 4,
  "nbformat_minor": 0,
  "metadata": {
    "colab": {
      "name": "Loan Prediction.ipynb",
      "provenance": [],
      "collapsed_sections": []
    },
    "kernelspec": {
      "name": "python3",
      "display_name": "Python 3"
    },
    "language_info": {
      "name": "python"
    }
  },
  "cells": [
    {
      "cell_type": "code",
      "source": [
        "# Install libraries not installed in Google Colab #\n",
        "# ! pip3 install tensorflow_decision_forests --upgrade"
      ],
      "metadata": {
        "id": "cozdbiJrvLbJ"
      },
      "execution_count": 1,
      "outputs": []
    },
    {
      "cell_type": "code",
      "execution_count": null,
      "metadata": {
        "id": "YtZPlEOvGjJG"
      },
      "outputs": [],
      "source": [
        "# Import all required libraries #\n",
        "import numpy as np\n",
        "import pandas as pd\n",
        "from sklearn.preprocessing import OneHotEncoder\n",
        "import tensorflow_decision_forests as tfdf"
      ]
    },
    {
      "cell_type": "code",
      "source": [
        "# Read Data Frame #\n",
        "Data = pd.read_csv('/content/Loan_Data.csv')"
      ],
      "metadata": {
        "id": "YWj_DKbGHchB"
      },
      "execution_count": 3,
      "outputs": []
    },
    {
      "cell_type": "code",
      "source": [
        "# Preprocess data with replacements #\n",
        "Data = Data.fillna(0)\n",
        "Data['Gender'] = Data['Gender'].replace(0, 'Unknown')\n",
        "Data['Dependents'] = Data['Dependents'].replace('3+', '4')\n",
        "Data['Dependents'] = Data['Dependents'].replace(0, '0')\n",
        "Data['Dependents'] = Data['Dependents'].replace(3, '3')\n",
        "Data['Married'] = Data['Married'].replace(0, 'Uknown')\n",
        "Data['Self_Employed'] = Data['Self_Employed'].replace(0, 'Uknown')"
      ],
      "metadata": {
        "id": "PR6qJyTLHlDG"
      },
      "execution_count": 4,
      "outputs": []
    },
    {
      "cell_type": "code",
      "source": [
        "# Create One-Hot-Encoder for preprocessing #\n",
        "one_hot = OneHotEncoder(handle_unknown='ignore')"
      ],
      "metadata": {
        "id": "UkWfn6ulPzet"
      },
      "execution_count": 5,
      "outputs": []
    },
    {
      "cell_type": "code",
      "source": [
        "# Preprocess data and target with encoder #\n",
        "Data['Dependents'] = one_hot.fit_transform(Data[['Dependents']]).toarray()[:, 3]\n",
        "Data['Education'] = one_hot.fit_transform(Data[['Education']]).toarray()[:,1]\n",
        "Data['Credit_History'] = one_hot.fit_transform(Data[['Credit_History']]).toarray()[:,1]\n",
        "Data['Married'] = one_hot.fit_transform(Data[['Married']]).toarray()[:,1]\n",
        "Data['Self_Employed'] = one_hot.fit_transform(Data[['Self_Employed']]).toarray()[:,1]\n",
        "Data['Gender'] = one_hot.fit_transform(Data[['Gender']]).toarray()[:,2]\n",
        "Data['Property_Area'] = one_hot.fit_transform(Data[['Property_Area']]).toarray()[:,2]\n",
        "\n",
        "Data['Loan_Status'] = one_hot.fit_transform(Data[['Loan_Status']]).toarray()[:,1]"
      ],
      "metadata": {
        "id": "0hEOqI46QAPw"
      },
      "execution_count": 6,
      "outputs": []
    },
    {
      "cell_type": "code",
      "source": [
        "# Remove Loan_ID column as it has no affect on approval rate #\n",
        "Data = Data.drop('Loan_ID', 1)"
      ],
      "metadata": {
        "id": "EFLTRXGy3Akx"
      },
      "execution_count": null,
      "outputs": []
    },
    {
      "cell_type": "code",
      "source": [
        "# Create a single data piece and label for fitting #\n",
        "Data = tfdf.keras.pd_dataframe_to_tf_dataset(Data, label='Loan_Status')"
      ],
      "metadata": {
        "id": "f2yJyBJezPT-"
      },
      "execution_count": null,
      "outputs": []
    },
    {
      "cell_type": "code",
      "source": [
        "# Create and fit model #\n",
        "model = tfdf.keras.RandomForestModel()\n",
        "model.fit(x=Data)"
      ],
      "metadata": {
        "id": "2H-egrguDf1B"
      },
      "execution_count": null,
      "outputs": []
    }
  ]
}
